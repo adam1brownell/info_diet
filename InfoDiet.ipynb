{
 "cells": [
  {
   "cell_type": "code",
   "execution_count": 2,
   "id": "70076844-4930-4e47-a3ae-90e25651559d",
   "metadata": {},
   "outputs": [
    {
     "name": "stdout",
     "output_type": "stream",
     "text": [
      "Collecting pychrome\n",
      "  Downloading pychrome-0.2.4-py2.py3-none-any.whl.metadata (4.3 kB)\n",
      "Requirement already satisfied: click>=6.0 in /Library/Frameworks/Python.framework/Versions/3.12/lib/python3.12/site-packages (from pychrome) (8.1.7)\n",
      "Requirement already satisfied: websocket-client>=0.44.0 in /Library/Frameworks/Python.framework/Versions/3.12/lib/python3.12/site-packages (from pychrome) (1.8.0)\n",
      "Requirement already satisfied: requests>=2.13.0 in /Library/Frameworks/Python.framework/Versions/3.12/lib/python3.12/site-packages (from pychrome) (2.31.0)\n",
      "Requirement already satisfied: charset-normalizer<4,>=2 in /Library/Frameworks/Python.framework/Versions/3.12/lib/python3.12/site-packages (from requests>=2.13.0->pychrome) (3.3.2)\n",
      "Requirement already satisfied: idna<4,>=2.5 in /Library/Frameworks/Python.framework/Versions/3.12/lib/python3.12/site-packages (from requests>=2.13.0->pychrome) (3.6)\n",
      "Requirement already satisfied: urllib3<3,>=1.21.1 in /Library/Frameworks/Python.framework/Versions/3.12/lib/python3.12/site-packages (from requests>=2.13.0->pychrome) (2.2.1)\n",
      "Requirement already satisfied: certifi>=2017.4.17 in /Library/Frameworks/Python.framework/Versions/3.12/lib/python3.12/site-packages (from requests>=2.13.0->pychrome) (2024.2.2)\n",
      "Downloading pychrome-0.2.4-py2.py3-none-any.whl (8.2 kB)\n",
      "Installing collected packages: pychrome\n",
      "Successfully installed pychrome-0.2.4\n",
      "\n",
      "\u001b[1m[\u001b[0m\u001b[34;49mnotice\u001b[0m\u001b[1;39;49m]\u001b[0m\u001b[39;49m A new release of pip is available: \u001b[0m\u001b[31;49m24.0\u001b[0m\u001b[39;49m -> \u001b[0m\u001b[32;49m24.2\u001b[0m\n",
      "\u001b[1m[\u001b[0m\u001b[34;49mnotice\u001b[0m\u001b[1;39;49m]\u001b[0m\u001b[39;49m To update, run: \u001b[0m\u001b[32;49mpip3 install --upgrade pip\u001b[0m\n"
     ]
    }
   ],
   "source": [
    "!pip3 install pychrome"
   ]
  },
  {
   "cell_type": "code",
   "execution_count": 4,
   "id": "241ce8c4-5ebc-4c43-95da-62318bc0dee8",
   "metadata": {},
   "outputs": [],
   "source": [
    "import subprocess\n",
    "import pychrome\n",
    "import time\n",
    "import requests\n",
    "import os"
   ]
  },
  {
   "cell_type": "code",
   "execution_count": 9,
   "id": "5fdffe6a-4574-434f-958d-a2c99d241a88",
   "metadata": {},
   "outputs": [
    {
     "name": "stdout",
     "output_type": "stream",
     "text": [
      "Opening in existing browser session.\n"
     ]
    }
   ],
   "source": [
    "# Function to check if remote debugging is enabled\n",
    "def is_remote_debugging_enabled():\n",
    "    try:\n",
    "        response = requests.get(\"http://127.0.0.1:9222/json\")\n",
    "        if response.status_code == 200:\n",
    "            return True\n",
    "    except requests.exceptions.ConnectionError:\n",
    "        return False\n",
    "    return False\n",
    "\n",
    "# Function to launch Brave with remote debugging\n",
    "def launch_brave_with_debugging():\n",
    "    # Determine the path to the Brave executable\n",
    "    brave_path = \"/Applications/Brave Browser.app/Contents/MacOS/Brave Browser\"  # Adjust this path for your OS\n",
    "    if not os.path.exists(brave_path):\n",
    "        print('fail')\n",
    "        brave_path = \"/usr/bin/brave\"  # Alternative path for Brave\n",
    "\n",
    "    # Start Brave with remote debugging enabled\n",
    "    subprocess.Popen([brave_path, \"--remote-debugging-port=9222\", \"--no-first-run\", \"--no-default-browser-check\"])\n",
    "\n",
    "# Launch Brave with remote debugging\n",
    "launch_brave_with_debugging()"
   ]
  },
  {
   "cell_type": "code",
   "execution_count": 30,
   "id": "ef9a8072-9d71-4663-824b-6ea8eff5f51c",
   "metadata": {},
   "outputs": [
    {
     "name": "stdout",
     "output_type": "stream",
     "text": [
      "                                               URL  \\\n",
      "0                   https://app.simplifimoney.com/   \n",
      "1                   https://app.simplifimoney.com/   \n",
      "2            https://app.simplifimoney.com/reports   \n",
      "3  https://calendar.google.com/calendar/u/0/r/week   \n",
      "4  https://calendar.google.com/calendar/u/0/r/week   \n",
      "\n",
      "                                               Title  \\\n",
      "0  Simplifi - The simple way to stay on top of yo...   \n",
      "1  Simplifi - The simple way to stay on top of yo...   \n",
      "2                       Simplifi - Reports: Spending   \n",
      "3          Google Calendar - Week of August 26, 2024   \n",
      "4          Google Calendar - Week of August 26, 2024   \n",
      "\n",
      "                  Visit Time             Time Spent  \n",
      "0 2024-05-29 09:46:49.353959 0 days 00:00:01.584511  \n",
      "1 2024-05-29 09:46:50.938470 0 days 00:00:14.198538  \n",
      "2 2024-05-29 09:47:05.137008 0 days 00:00:11.136722  \n",
      "3 2024-05-29 09:47:16.273730 0 days 00:00:01.146772  \n",
      "4 2024-05-29 09:47:17.420502 0 days 00:00:00.870924  \n"
     ]
    }
   ],
   "source": [
    "import sqlite3\n",
    "import os\n",
    "from datetime import datetime, timedelta\n",
    "import pandas as pd\n",
    "\n",
    "# Path to the Brave browsing history file (adjust path as necessary)\n",
    "history_path = \"/Users/adambrownell/Library/Application Support/BraveSoftware/Brave-Browser/Default/History\"\n",
    "history_path_tmp = os.getcwd()+\"/brave_history_copy.db\"\n",
    "\n",
    "subprocess.run([\"cp\", history_path, history_path_tmp], check=True)\n",
    "\n",
    "\n",
    "# Connect to the SQLite database that stores the browsing history\n",
    "conn = sqlite3.connect(history_path_tmp)\n",
    "cursor = conn.cursor()\n",
    "\n",
    "# Query to join urls and visits tables and order by visit_time\n",
    "cursor.execute(\"\"\"\n",
    "    SELECT urls.url, urls.title, visits.visit_time\n",
    "    FROM urls, visits\n",
    "    WHERE urls.id = visits.url\n",
    "    ORDER BY visits.visit_time ASC\n",
    "\"\"\")\n",
    "\n",
    "# Fetch all rows from the query\n",
    "rows = cursor.fetchall()\n",
    "\n",
    "# Convert visit_time from Chrome's timestamp format and store the data\n",
    "visit_data = []\n",
    "for row in rows:\n",
    "    url = row[0]\n",
    "    title = row[1]\n",
    "    visit_time = datetime(1601, 1, 1) + timedelta(microseconds=row[2])\n",
    "    visit_data.append((url, title, visit_time))\n",
    "\n",
    "# Calculate the visit time difference between consecutive visits\n",
    "visit_times = []\n",
    "for i in range(len(visit_data) - 1):\n",
    "    url, title, visit_time = visit_data[i]\n",
    "    next_visit_time = visit_data[i + 1][2]\n",
    "    time_spent = next_visit_time - visit_time\n",
    "    visit_times.append((url, title, visit_time, time_spent))\n",
    "\n",
    "# Close the database connection\n",
    "conn.close()\n",
    "\n",
    "# Create a DataFrame from the visit_times data\n",
    "df = pd.DataFrame(visit_times, columns=[\"URL\", \"Title\", \"Visit Time\", \"Time Spent\"])\n",
    "\n",
    "# Display the DataFrame\n",
    "print(df.head())  # Display the first few rows of the DataFrame"
   ]
  },
  {
   "cell_type": "code",
   "execution_count": 53,
   "id": "723045c6-000e-47c0-8d6c-5d36caa4daaa",
   "metadata": {},
   "outputs": [
    {
     "data": {
      "text/html": [
       "<div>\n",
       "<style scoped>\n",
       "    .dataframe tbody tr th:only-of-type {\n",
       "        vertical-align: middle;\n",
       "    }\n",
       "\n",
       "    .dataframe tbody tr th {\n",
       "        vertical-align: top;\n",
       "    }\n",
       "\n",
       "    .dataframe thead th {\n",
       "        text-align: right;\n",
       "    }\n",
       "</style>\n",
       "<table border=\"1\" class=\"dataframe\">\n",
       "  <thead>\n",
       "    <tr style=\"text-align: right;\">\n",
       "      <th></th>\n",
       "      <th>URL</th>\n",
       "      <th>Title</th>\n",
       "      <th>Visit Time</th>\n",
       "      <th>Time Spent</th>\n",
       "      <th>Website</th>\n",
       "      <th>Visit Date</th>\n",
       "    </tr>\n",
       "  </thead>\n",
       "  <tbody>\n",
       "    <tr>\n",
       "      <th>0</th>\n",
       "      <td>https://app.simplifimoney.com/</td>\n",
       "      <td>Simplifi - The simple way to stay on top of yo...</td>\n",
       "      <td>2024-05-29 09:46:49.353959</td>\n",
       "      <td>0 days 00:00:01.584511</td>\n",
       "      <td>app.simplifimoney</td>\n",
       "      <td>2024-05-29</td>\n",
       "    </tr>\n",
       "    <tr>\n",
       "      <th>1</th>\n",
       "      <td>https://app.simplifimoney.com/</td>\n",
       "      <td>Simplifi - The simple way to stay on top of yo...</td>\n",
       "      <td>2024-05-29 09:46:50.938470</td>\n",
       "      <td>0 days 00:00:14.198538</td>\n",
       "      <td>app.simplifimoney</td>\n",
       "      <td>2024-05-29</td>\n",
       "    </tr>\n",
       "    <tr>\n",
       "      <th>2</th>\n",
       "      <td>https://app.simplifimoney.com/reports</td>\n",
       "      <td>Simplifi - Reports: Spending</td>\n",
       "      <td>2024-05-29 09:47:05.137008</td>\n",
       "      <td>0 days 00:00:11.136722</td>\n",
       "      <td>app.simplifimoney</td>\n",
       "      <td>2024-05-29</td>\n",
       "    </tr>\n",
       "    <tr>\n",
       "      <th>3</th>\n",
       "      <td>https://calendar.google.com/calendar/u/0/r/week</td>\n",
       "      <td>Google Calendar - Week of August 26, 2024</td>\n",
       "      <td>2024-05-29 09:47:16.273730</td>\n",
       "      <td>0 days 00:00:01.146772</td>\n",
       "      <td>calendar.google</td>\n",
       "      <td>2024-05-29</td>\n",
       "    </tr>\n",
       "    <tr>\n",
       "      <th>4</th>\n",
       "      <td>https://calendar.google.com/calendar/u/0/r/week</td>\n",
       "      <td>Google Calendar - Week of August 26, 2024</td>\n",
       "      <td>2024-05-29 09:47:17.420502</td>\n",
       "      <td>0 days 00:00:00.870924</td>\n",
       "      <td>calendar.google</td>\n",
       "      <td>2024-05-29</td>\n",
       "    </tr>\n",
       "    <tr>\n",
       "      <th>...</th>\n",
       "      <td>...</td>\n",
       "      <td>...</td>\n",
       "      <td>...</td>\n",
       "      <td>...</td>\n",
       "      <td>...</td>\n",
       "      <td>...</td>\n",
       "    </tr>\n",
       "    <tr>\n",
       "      <th>18005</th>\n",
       "      <td>file:///Users/adambrownell/Library/Jupyter/run...</td>\n",
       "      <td>Home</td>\n",
       "      <td>2024-08-27 04:49:52.368007</td>\n",
       "      <td>0 days 00:00:01.060537</td>\n",
       "      <td>Local Development</td>\n",
       "      <td>2024-08-27</td>\n",
       "    </tr>\n",
       "    <tr>\n",
       "      <th>18006</th>\n",
       "      <td>http://localhost:8888/tree?token=d806860ce2744...</td>\n",
       "      <td>Home</td>\n",
       "      <td>2024-08-27 04:49:53.428544</td>\n",
       "      <td>0 days 00:00:00.141389</td>\n",
       "      <td>Local Development</td>\n",
       "      <td>2024-08-27</td>\n",
       "    </tr>\n",
       "    <tr>\n",
       "      <th>18007</th>\n",
       "      <td>http://localhost:8888/tree</td>\n",
       "      <td>Home</td>\n",
       "      <td>2024-08-27 04:49:53.569933</td>\n",
       "      <td>0 days 00:00:06.608480</td>\n",
       "      <td>Local Development</td>\n",
       "      <td>2024-08-27</td>\n",
       "    </tr>\n",
       "    <tr>\n",
       "      <th>18008</th>\n",
       "      <td>http://localhost:8888/notebooks/Untitled.ipynb</td>\n",
       "      <td>Untitled</td>\n",
       "      <td>2024-08-27 04:50:00.178413</td>\n",
       "      <td>0 days 00:17:38.528017</td>\n",
       "      <td>Local Development</td>\n",
       "      <td>2024-08-27</td>\n",
       "    </tr>\n",
       "    <tr>\n",
       "      <th>18009</th>\n",
       "      <td>http://localhost:8888/tree</td>\n",
       "      <td>Home</td>\n",
       "      <td>2024-08-27 05:07:38.706430</td>\n",
       "      <td>0 days 00:02:55.999376</td>\n",
       "      <td>Local Development</td>\n",
       "      <td>2024-08-27</td>\n",
       "    </tr>\n",
       "  </tbody>\n",
       "</table>\n",
       "<p>18010 rows × 6 columns</p>\n",
       "</div>"
      ],
      "text/plain": [
       "                                                     URL  \\\n",
       "0                         https://app.simplifimoney.com/   \n",
       "1                         https://app.simplifimoney.com/   \n",
       "2                  https://app.simplifimoney.com/reports   \n",
       "3        https://calendar.google.com/calendar/u/0/r/week   \n",
       "4        https://calendar.google.com/calendar/u/0/r/week   \n",
       "...                                                  ...   \n",
       "18005  file:///Users/adambrownell/Library/Jupyter/run...   \n",
       "18006  http://localhost:8888/tree?token=d806860ce2744...   \n",
       "18007                         http://localhost:8888/tree   \n",
       "18008     http://localhost:8888/notebooks/Untitled.ipynb   \n",
       "18009                         http://localhost:8888/tree   \n",
       "\n",
       "                                                   Title  \\\n",
       "0      Simplifi - The simple way to stay on top of yo...   \n",
       "1      Simplifi - The simple way to stay on top of yo...   \n",
       "2                           Simplifi - Reports: Spending   \n",
       "3              Google Calendar - Week of August 26, 2024   \n",
       "4              Google Calendar - Week of August 26, 2024   \n",
       "...                                                  ...   \n",
       "18005                                               Home   \n",
       "18006                                               Home   \n",
       "18007                                               Home   \n",
       "18008                                           Untitled   \n",
       "18009                                               Home   \n",
       "\n",
       "                      Visit Time             Time Spent            Website  \\\n",
       "0     2024-05-29 09:46:49.353959 0 days 00:00:01.584511  app.simplifimoney   \n",
       "1     2024-05-29 09:46:50.938470 0 days 00:00:14.198538  app.simplifimoney   \n",
       "2     2024-05-29 09:47:05.137008 0 days 00:00:11.136722  app.simplifimoney   \n",
       "3     2024-05-29 09:47:16.273730 0 days 00:00:01.146772    calendar.google   \n",
       "4     2024-05-29 09:47:17.420502 0 days 00:00:00.870924    calendar.google   \n",
       "...                          ...                    ...                ...   \n",
       "18005 2024-08-27 04:49:52.368007 0 days 00:00:01.060537  Local Development   \n",
       "18006 2024-08-27 04:49:53.428544 0 days 00:00:00.141389  Local Development   \n",
       "18007 2024-08-27 04:49:53.569933 0 days 00:00:06.608480  Local Development   \n",
       "18008 2024-08-27 04:50:00.178413 0 days 00:17:38.528017  Local Development   \n",
       "18009 2024-08-27 05:07:38.706430 0 days 00:02:55.999376  Local Development   \n",
       "\n",
       "       Visit Date  \n",
       "0      2024-05-29  \n",
       "1      2024-05-29  \n",
       "2      2024-05-29  \n",
       "3      2024-05-29  \n",
       "4      2024-05-29  \n",
       "...           ...  \n",
       "18005  2024-08-27  \n",
       "18006  2024-08-27  \n",
       "18007  2024-08-27  \n",
       "18008  2024-08-27  \n",
       "18009  2024-08-27  \n",
       "\n",
       "[18010 rows x 6 columns]"
      ]
     },
     "execution_count": 53,
     "metadata": {},
     "output_type": "execute_result"
    }
   ],
   "source": [
    "df['Website'] = df['URL'].str.extract(r'http[s]?://(?:www\\.)?([^/.]+\\.[^/.]+)')\n",
    "df.loc[df['URL'].str.contains('localhost'), 'Website'] = 'Local Development'\n",
    "df.loc[df['URL'].str.contains('/Jupyter/'), 'Website'] = 'Local Development'\n",
    "\n",
    "df['Visit Date'] = df['Visit Time'].dt.date\n",
    "\n",
    "df"
   ]
  },
  {
   "cell_type": "code",
   "execution_count": 58,
   "id": "1a402e71-810f-4e20-8ce8-54b598936b2e",
   "metadata": {},
   "outputs": [],
   "source": [
    "four_hours = df.loc[df['Time Spent'] > timedelta(hours=4)]\n",
    "avg_time = df.loc[df['Time Spent'] < timedelta(hours=4)]['Time Spent'].mean()\n",
    "# Step 2: Calculate the average 'Time Spent' for each website, excluding visits over 5 hours\n",
    "def calculate_average_time_spent(website):\n",
    "    # Filter out visits to the specific website that are <= 5 hours\n",
    "    relevant_times = df[(df['Website'] == website) & (df['Time Spent'] <= timedelta(hours=5))]['Time Spent']\n",
    "    \n",
    "    # Calculate the average time spent\n",
    "    if not relevant_times.empty:\n",
    "        return relevant_times.mean()\n",
    "    else:\n",
    "        print(f\"Only 1 visit to {website}\")\n",
    "        return(avg_time)\n",
    "\n",
    "for idx, row in four_hours.iterrows():\n",
    "    website = row['Website']\n",
    "    average_time_spent = calculate_average_time_spent(website)\n",
    "    df.at[idx, 'Time Spent'] = average_time_spent"
   ]
  },
  {
   "cell_type": "code",
   "execution_count": 61,
   "id": "7715eaca-3c1c-47b2-8eab-0446edabcf3e",
   "metadata": {},
   "outputs": [
    {
     "name": "stdout",
     "output_type": "stream",
     "text": [
      "      Visit Date                 Website                Time Spent\n",
      "0     2024-05-29       app.simplifimoney    0 days 00:00:26.919771\n",
      "1     2024-05-29              apps.apple    0 days 00:59:42.710902\n",
      "2     2024-05-29         calendar.google    0 days 00:02:26.104395\n",
      "3     2024-05-29       inspiredflow.yoga    0 days 00:03:05.500972\n",
      "4     2024-05-29              reddit.com 0 days 00:15:31.758055301\n",
      "...          ...                     ...                       ...\n",
      "1218  2024-08-27  sso-auth.startupschool           0 days 00:00:00\n",
      "1219  2024-08-27       startupschool.org    0 days 00:01:35.285226\n",
      "1220  2024-08-27            vanguard.com           0 days 00:00:00\n",
      "1221  2024-08-27         ycombinator.com    0 days 00:00:04.159731\n",
      "1222  2024-08-27             youtube.com    0 days 01:41:16.651207\n",
      "\n",
      "[1223 rows x 3 columns]\n"
     ]
    }
   ],
   "source": [
    "grouped_df = df.groupby(['Visit Date', 'Website'])['Time Spent'].sum().reset_index()\n",
    "print(grouped_df)"
   ]
  },
  {
   "cell_type": "code",
   "execution_count": 64,
   "id": "80296756-a156-4c3d-aad8-3645232040ef",
   "metadata": {},
   "outputs": [
    {
     "data": {
      "application/vnd.plotly.v1+json": {
       "config": {
        "plotlyServerURL": "https://plot.ly"
       },
       "data": [
        {
         "alignmentgroup": "True",
         "hovertemplate": "Date=%{x}<br>Total Screen Time (minutes)=%{y}<extra></extra>",
         "legendgroup": "",
         "marker": {
          "color": "#636efa",
          "pattern": {
           "shape": ""
          }
         },
         "name": "",
         "offsetgroup": "",
         "orientation": "v",
         "showlegend": false,
         "textposition": "auto",
         "type": "bar",
         "x": [
          "2024-07-27",
          "2024-07-28",
          "2024-07-29",
          "2024-07-30",
          "2024-07-31",
          "2024-08-01",
          "2024-08-02",
          "2024-08-03",
          "2024-08-04",
          "2024-08-05",
          "2024-08-06",
          "2024-08-07",
          "2024-08-08",
          "2024-08-09",
          "2024-08-10",
          "2024-08-11",
          "2024-08-12",
          "2024-08-13",
          "2024-08-14",
          "2024-08-15",
          "2024-08-16",
          "2024-08-17",
          "2024-08-19",
          "2024-08-20",
          "2024-08-21",
          "2024-08-24",
          "2024-08-25",
          "2024-08-26",
          "2024-08-27"
         ],
         "xaxis": "x",
         "y": [
          725.4272628102666,
          350.7318852372,
          225.91148843088334,
          380.4272721042167,
          407.7168533003833,
          375.37965765,
          496.7176359182667,
          112.80249699999999,
          832.7153600875,
          841.7020056557334,
          696.8461575417167,
          196.75013940276668,
          21.10568000265,
          2.904194185566667,
          101.84693196245,
          936.6699291416667,
          528.98267858155,
          256.66293987813333,
          66.41942370573334,
          296.16781720085,
          611.0715452235667,
          292.02653488155,
          181.27352474713334,
          658.2730643244834,
          161.66769095358333,
          121.80915285145001,
          0.08544312500000001,
          535.6279903166667,
          304.8201128666667
         ],
         "yaxis": "y"
        }
       ],
       "layout": {
        "autosize": true,
        "barmode": "relative",
        "legend": {
         "tracegroupgap": 0
        },
        "template": {
         "data": {
          "bar": [
           {
            "error_x": {
             "color": "#2a3f5f"
            },
            "error_y": {
             "color": "#2a3f5f"
            },
            "marker": {
             "line": {
              "color": "#E5ECF6",
              "width": 0.5
             },
             "pattern": {
              "fillmode": "overlay",
              "size": 10,
              "solidity": 0.2
             }
            },
            "type": "bar"
           }
          ],
          "barpolar": [
           {
            "marker": {
             "line": {
              "color": "#E5ECF6",
              "width": 0.5
             },
             "pattern": {
              "fillmode": "overlay",
              "size": 10,
              "solidity": 0.2
             }
            },
            "type": "barpolar"
           }
          ],
          "carpet": [
           {
            "aaxis": {
             "endlinecolor": "#2a3f5f",
             "gridcolor": "white",
             "linecolor": "white",
             "minorgridcolor": "white",
             "startlinecolor": "#2a3f5f"
            },
            "baxis": {
             "endlinecolor": "#2a3f5f",
             "gridcolor": "white",
             "linecolor": "white",
             "minorgridcolor": "white",
             "startlinecolor": "#2a3f5f"
            },
            "type": "carpet"
           }
          ],
          "choropleth": [
           {
            "colorbar": {
             "outlinewidth": 0,
             "ticks": ""
            },
            "type": "choropleth"
           }
          ],
          "contour": [
           {
            "colorbar": {
             "outlinewidth": 0,
             "ticks": ""
            },
            "colorscale": [
             [
              0,
              "#0d0887"
             ],
             [
              0.1111111111111111,
              "#46039f"
             ],
             [
              0.2222222222222222,
              "#7201a8"
             ],
             [
              0.3333333333333333,
              "#9c179e"
             ],
             [
              0.4444444444444444,
              "#bd3786"
             ],
             [
              0.5555555555555556,
              "#d8576b"
             ],
             [
              0.6666666666666666,
              "#ed7953"
             ],
             [
              0.7777777777777778,
              "#fb9f3a"
             ],
             [
              0.8888888888888888,
              "#fdca26"
             ],
             [
              1,
              "#f0f921"
             ]
            ],
            "type": "contour"
           }
          ],
          "contourcarpet": [
           {
            "colorbar": {
             "outlinewidth": 0,
             "ticks": ""
            },
            "type": "contourcarpet"
           }
          ],
          "heatmap": [
           {
            "colorbar": {
             "outlinewidth": 0,
             "ticks": ""
            },
            "colorscale": [
             [
              0,
              "#0d0887"
             ],
             [
              0.1111111111111111,
              "#46039f"
             ],
             [
              0.2222222222222222,
              "#7201a8"
             ],
             [
              0.3333333333333333,
              "#9c179e"
             ],
             [
              0.4444444444444444,
              "#bd3786"
             ],
             [
              0.5555555555555556,
              "#d8576b"
             ],
             [
              0.6666666666666666,
              "#ed7953"
             ],
             [
              0.7777777777777778,
              "#fb9f3a"
             ],
             [
              0.8888888888888888,
              "#fdca26"
             ],
             [
              1,
              "#f0f921"
             ]
            ],
            "type": "heatmap"
           }
          ],
          "heatmapgl": [
           {
            "colorbar": {
             "outlinewidth": 0,
             "ticks": ""
            },
            "colorscale": [
             [
              0,
              "#0d0887"
             ],
             [
              0.1111111111111111,
              "#46039f"
             ],
             [
              0.2222222222222222,
              "#7201a8"
             ],
             [
              0.3333333333333333,
              "#9c179e"
             ],
             [
              0.4444444444444444,
              "#bd3786"
             ],
             [
              0.5555555555555556,
              "#d8576b"
             ],
             [
              0.6666666666666666,
              "#ed7953"
             ],
             [
              0.7777777777777778,
              "#fb9f3a"
             ],
             [
              0.8888888888888888,
              "#fdca26"
             ],
             [
              1,
              "#f0f921"
             ]
            ],
            "type": "heatmapgl"
           }
          ],
          "histogram": [
           {
            "marker": {
             "pattern": {
              "fillmode": "overlay",
              "size": 10,
              "solidity": 0.2
             }
            },
            "type": "histogram"
           }
          ],
          "histogram2d": [
           {
            "colorbar": {
             "outlinewidth": 0,
             "ticks": ""
            },
            "colorscale": [
             [
              0,
              "#0d0887"
             ],
             [
              0.1111111111111111,
              "#46039f"
             ],
             [
              0.2222222222222222,
              "#7201a8"
             ],
             [
              0.3333333333333333,
              "#9c179e"
             ],
             [
              0.4444444444444444,
              "#bd3786"
             ],
             [
              0.5555555555555556,
              "#d8576b"
             ],
             [
              0.6666666666666666,
              "#ed7953"
             ],
             [
              0.7777777777777778,
              "#fb9f3a"
             ],
             [
              0.8888888888888888,
              "#fdca26"
             ],
             [
              1,
              "#f0f921"
             ]
            ],
            "type": "histogram2d"
           }
          ],
          "histogram2dcontour": [
           {
            "colorbar": {
             "outlinewidth": 0,
             "ticks": ""
            },
            "colorscale": [
             [
              0,
              "#0d0887"
             ],
             [
              0.1111111111111111,
              "#46039f"
             ],
             [
              0.2222222222222222,
              "#7201a8"
             ],
             [
              0.3333333333333333,
              "#9c179e"
             ],
             [
              0.4444444444444444,
              "#bd3786"
             ],
             [
              0.5555555555555556,
              "#d8576b"
             ],
             [
              0.6666666666666666,
              "#ed7953"
             ],
             [
              0.7777777777777778,
              "#fb9f3a"
             ],
             [
              0.8888888888888888,
              "#fdca26"
             ],
             [
              1,
              "#f0f921"
             ]
            ],
            "type": "histogram2dcontour"
           }
          ],
          "mesh3d": [
           {
            "colorbar": {
             "outlinewidth": 0,
             "ticks": ""
            },
            "type": "mesh3d"
           }
          ],
          "parcoords": [
           {
            "line": {
             "colorbar": {
              "outlinewidth": 0,
              "ticks": ""
             }
            },
            "type": "parcoords"
           }
          ],
          "pie": [
           {
            "automargin": true,
            "type": "pie"
           }
          ],
          "scatter": [
           {
            "fillpattern": {
             "fillmode": "overlay",
             "size": 10,
             "solidity": 0.2
            },
            "type": "scatter"
           }
          ],
          "scatter3d": [
           {
            "line": {
             "colorbar": {
              "outlinewidth": 0,
              "ticks": ""
             }
            },
            "marker": {
             "colorbar": {
              "outlinewidth": 0,
              "ticks": ""
             }
            },
            "type": "scatter3d"
           }
          ],
          "scattercarpet": [
           {
            "marker": {
             "colorbar": {
              "outlinewidth": 0,
              "ticks": ""
             }
            },
            "type": "scattercarpet"
           }
          ],
          "scattergeo": [
           {
            "marker": {
             "colorbar": {
              "outlinewidth": 0,
              "ticks": ""
             }
            },
            "type": "scattergeo"
           }
          ],
          "scattergl": [
           {
            "marker": {
             "colorbar": {
              "outlinewidth": 0,
              "ticks": ""
             }
            },
            "type": "scattergl"
           }
          ],
          "scattermapbox": [
           {
            "marker": {
             "colorbar": {
              "outlinewidth": 0,
              "ticks": ""
             }
            },
            "type": "scattermapbox"
           }
          ],
          "scatterpolar": [
           {
            "marker": {
             "colorbar": {
              "outlinewidth": 0,
              "ticks": ""
             }
            },
            "type": "scatterpolar"
           }
          ],
          "scatterpolargl": [
           {
            "marker": {
             "colorbar": {
              "outlinewidth": 0,
              "ticks": ""
             }
            },
            "type": "scatterpolargl"
           }
          ],
          "scatterternary": [
           {
            "marker": {
             "colorbar": {
              "outlinewidth": 0,
              "ticks": ""
             }
            },
            "type": "scatterternary"
           }
          ],
          "surface": [
           {
            "colorbar": {
             "outlinewidth": 0,
             "ticks": ""
            },
            "colorscale": [
             [
              0,
              "#0d0887"
             ],
             [
              0.1111111111111111,
              "#46039f"
             ],
             [
              0.2222222222222222,
              "#7201a8"
             ],
             [
              0.3333333333333333,
              "#9c179e"
             ],
             [
              0.4444444444444444,
              "#bd3786"
             ],
             [
              0.5555555555555556,
              "#d8576b"
             ],
             [
              0.6666666666666666,
              "#ed7953"
             ],
             [
              0.7777777777777778,
              "#fb9f3a"
             ],
             [
              0.8888888888888888,
              "#fdca26"
             ],
             [
              1,
              "#f0f921"
             ]
            ],
            "type": "surface"
           }
          ],
          "table": [
           {
            "cells": {
             "fill": {
              "color": "#EBF0F8"
             },
             "line": {
              "color": "white"
             }
            },
            "header": {
             "fill": {
              "color": "#C8D4E3"
             },
             "line": {
              "color": "white"
             }
            },
            "type": "table"
           }
          ]
         },
         "layout": {
          "annotationdefaults": {
           "arrowcolor": "#2a3f5f",
           "arrowhead": 0,
           "arrowwidth": 1
          },
          "autotypenumbers": "strict",
          "coloraxis": {
           "colorbar": {
            "outlinewidth": 0,
            "ticks": ""
           }
          },
          "colorscale": {
           "diverging": [
            [
             0,
             "#8e0152"
            ],
            [
             0.1,
             "#c51b7d"
            ],
            [
             0.2,
             "#de77ae"
            ],
            [
             0.3,
             "#f1b6da"
            ],
            [
             0.4,
             "#fde0ef"
            ],
            [
             0.5,
             "#f7f7f7"
            ],
            [
             0.6,
             "#e6f5d0"
            ],
            [
             0.7,
             "#b8e186"
            ],
            [
             0.8,
             "#7fbc41"
            ],
            [
             0.9,
             "#4d9221"
            ],
            [
             1,
             "#276419"
            ]
           ],
           "sequential": [
            [
             0,
             "#0d0887"
            ],
            [
             0.1111111111111111,
             "#46039f"
            ],
            [
             0.2222222222222222,
             "#7201a8"
            ],
            [
             0.3333333333333333,
             "#9c179e"
            ],
            [
             0.4444444444444444,
             "#bd3786"
            ],
            [
             0.5555555555555556,
             "#d8576b"
            ],
            [
             0.6666666666666666,
             "#ed7953"
            ],
            [
             0.7777777777777778,
             "#fb9f3a"
            ],
            [
             0.8888888888888888,
             "#fdca26"
            ],
            [
             1,
             "#f0f921"
            ]
           ],
           "sequentialminus": [
            [
             0,
             "#0d0887"
            ],
            [
             0.1111111111111111,
             "#46039f"
            ],
            [
             0.2222222222222222,
             "#7201a8"
            ],
            [
             0.3333333333333333,
             "#9c179e"
            ],
            [
             0.4444444444444444,
             "#bd3786"
            ],
            [
             0.5555555555555556,
             "#d8576b"
            ],
            [
             0.6666666666666666,
             "#ed7953"
            ],
            [
             0.7777777777777778,
             "#fb9f3a"
            ],
            [
             0.8888888888888888,
             "#fdca26"
            ],
            [
             1,
             "#f0f921"
            ]
           ]
          },
          "colorway": [
           "#636efa",
           "#EF553B",
           "#00cc96",
           "#ab63fa",
           "#FFA15A",
           "#19d3f3",
           "#FF6692",
           "#B6E880",
           "#FF97FF",
           "#FECB52"
          ],
          "font": {
           "color": "#2a3f5f"
          },
          "geo": {
           "bgcolor": "white",
           "lakecolor": "white",
           "landcolor": "#E5ECF6",
           "showlakes": true,
           "showland": true,
           "subunitcolor": "white"
          },
          "hoverlabel": {
           "align": "left"
          },
          "hovermode": "closest",
          "mapbox": {
           "style": "light"
          },
          "paper_bgcolor": "white",
          "plot_bgcolor": "#E5ECF6",
          "polar": {
           "angularaxis": {
            "gridcolor": "white",
            "linecolor": "white",
            "ticks": ""
           },
           "bgcolor": "#E5ECF6",
           "radialaxis": {
            "gridcolor": "white",
            "linecolor": "white",
            "ticks": ""
           }
          },
          "scene": {
           "xaxis": {
            "backgroundcolor": "#E5ECF6",
            "gridcolor": "white",
            "gridwidth": 2,
            "linecolor": "white",
            "showbackground": true,
            "ticks": "",
            "zerolinecolor": "white"
           },
           "yaxis": {
            "backgroundcolor": "#E5ECF6",
            "gridcolor": "white",
            "gridwidth": 2,
            "linecolor": "white",
            "showbackground": true,
            "ticks": "",
            "zerolinecolor": "white"
           },
           "zaxis": {
            "backgroundcolor": "#E5ECF6",
            "gridcolor": "white",
            "gridwidth": 2,
            "linecolor": "white",
            "showbackground": true,
            "ticks": "",
            "zerolinecolor": "white"
           }
          },
          "shapedefaults": {
           "line": {
            "color": "#2a3f5f"
           }
          },
          "ternary": {
           "aaxis": {
            "gridcolor": "white",
            "linecolor": "white",
            "ticks": ""
           },
           "baxis": {
            "gridcolor": "white",
            "linecolor": "white",
            "ticks": ""
           },
           "bgcolor": "#E5ECF6",
           "caxis": {
            "gridcolor": "white",
            "linecolor": "white",
            "ticks": ""
           }
          },
          "title": {
           "x": 0.05
          },
          "xaxis": {
           "automargin": true,
           "gridcolor": "white",
           "linecolor": "white",
           "ticks": "",
           "title": {
            "standoff": 15
           },
           "zerolinecolor": "white",
           "zerolinewidth": 2
          },
          "yaxis": {
           "automargin": true,
           "gridcolor": "white",
           "linecolor": "white",
           "ticks": "",
           "title": {
            "standoff": 15
           },
           "zerolinecolor": "white",
           "zerolinewidth": 2
          }
         }
        },
        "title": {
         "text": "Total Screen Time Per Day Over the Last 10 Days"
        },
        "xaxis": {
         "anchor": "y",
         "autorange": true,
         "domain": [
          0,
          1
         ],
         "range": [
          "2024-07-26 12:00",
          "2024-08-27 12:00"
         ],
         "title": {
          "text": "Date"
         },
         "type": "date"
        },
        "yaxis": {
         "anchor": "x",
         "autorange": true,
         "domain": [
          0,
          1
         ],
         "range": [
          0,
          985.9683464649123
         ],
         "title": {
          "text": "Total Screen Time (minutes)"
         },
         "type": "linear"
        }
       }
      },
      "image/png": "[encoded data removed]",
      "text/html": [
       "<div>                            <div id=\"90e80423-c77e-400e-b10f-1f80fab1ffa4\" class=\"plotly-graph-div\" style=\"height:525px; width:100%;\"></div>            <script type=\"text/javascript\">                require([\"plotly\"], function(Plotly) {                    window.PLOTLYENV=window.PLOTLYENV || {};                                    if (document.getElementById(\"90e80423-c77e-400e-b10f-1f80fab1ffa4\")) {                    Plotly.newPlot(                        \"90e80423-c77e-400e-b10f-1f80fab1ffa4\",                        [{\"alignmentgroup\":\"True\",\"hovertemplate\":\"Date=%{x}\\u003cbr\\u003eTotal Screen Time (minutes)=%{y}\\u003cextra\\u003e\\u003c\\u002fextra\\u003e\",\"legendgroup\":\"\",\"marker\":{\"color\":\"#636efa\",\"pattern\":{\"shape\":\"\"}},\"name\":\"\",\"offsetgroup\":\"\",\"orientation\":\"v\",\"showlegend\":false,\"textposition\":\"auto\",\"x\":[\"2024-07-27\",\"2024-07-28\",\"2024-07-29\",\"2024-07-30\",\"2024-07-31\",\"2024-08-01\",\"2024-08-02\",\"2024-08-03\",\"2024-08-04\",\"2024-08-05\",\"2024-08-06\",\"2024-08-07\",\"2024-08-08\",\"2024-08-09\",\"2024-08-10\",\"2024-08-11\",\"2024-08-12\",\"2024-08-13\",\"2024-08-14\",\"2024-08-15\",\"2024-08-16\",\"2024-08-17\",\"2024-08-19\",\"2024-08-20\",\"2024-08-21\",\"2024-08-24\",\"2024-08-25\",\"2024-08-26\",\"2024-08-27\"],\"xaxis\":\"x\",\"y\":[725.4272628102666,350.7318852372,225.91148843088334,380.4272721042167,407.7168533003833,375.37965765,496.7176359182667,112.80249699999999,832.7153600875,841.7020056557334,696.8461575417167,196.75013940276668,21.10568000265,2.904194185566667,101.84693196245,936.6699291416667,528.98267858155,256.66293987813333,66.41942370573334,296.16781720085,611.0715452235667,292.02653488155,181.27352474713334,658.2730643244834,161.66769095358333,121.80915285145001,0.08544312500000001,535.6279903166667,304.8201128666667],\"yaxis\":\"y\",\"type\":\"bar\"}],                        {\"template\":{\"data\":{\"histogram2dcontour\":[{\"type\":\"histogram2dcontour\",\"colorbar\":{\"outlinewidth\":0,\"ticks\":\"\"},\"colorscale\":[[0.0,\"#0d0887\"],[0.1111111111111111,\"#46039f\"],[0.2222222222222222,\"#7201a8\"],[0.3333333333333333,\"#9c179e\"],[0.4444444444444444,\"#bd3786\"],[0.5555555555555556,\"#d8576b\"],[0.6666666666666666,\"#ed7953\"],[0.7777777777777778,\"#fb9f3a\"],[0.8888888888888888,\"#fdca26\"],[1.0,\"#f0f921\"]]}],\"choropleth\":[{\"type\":\"choropleth\",\"colorbar\":{\"outlinewidth\":0,\"ticks\":\"\"}}],\"histogram2d\":[{\"type\":\"histogram2d\",\"colorbar\":{\"outlinewidth\":0,\"ticks\":\"\"},\"colorscale\":[[0.0,\"#0d0887\"],[0.1111111111111111,\"#46039f\"],[0.2222222222222222,\"#7201a8\"],[0.3333333333333333,\"#9c179e\"],[0.4444444444444444,\"#bd3786\"],[0.5555555555555556,\"#d8576b\"],[0.6666666666666666,\"#ed7953\"],[0.7777777777777778,\"#fb9f3a\"],[0.8888888888888888,\"#fdca26\"],[1.0,\"#f0f921\"]]}],\"heatmap\":[{\"type\":\"heatmap\",\"colorbar\":{\"outlinewidth\":0,\"ticks\":\"\"},\"colorscale\":[[0.0,\"#0d0887\"],[0.1111111111111111,\"#46039f\"],[0.2222222222222222,\"#7201a8\"],[0.3333333333333333,\"#9c179e\"],[0.4444444444444444,\"#bd3786\"],[0.5555555555555556,\"#d8576b\"],[0.6666666666666666,\"#ed7953\"],[0.7777777777777778,\"#fb9f3a\"],[0.8888888888888888,\"#fdca26\"],[1.0,\"#f0f921\"]]}],\"heatmapgl\":[{\"type\":\"heatmapgl\",\"colorbar\":{\"outlinewidth\":0,\"ticks\":\"\"},\"colorscale\":[[0.0,\"#0d0887\"],[0.1111111111111111,\"#46039f\"],[0.2222222222222222,\"#7201a8\"],[0.3333333333333333,\"#9c179e\"],[0.4444444444444444,\"#bd3786\"],[0.5555555555555556,\"#d8576b\"],[0.6666666666666666,\"#ed7953\"],[0.7777777777777778,\"#fb9f3a\"],[0.8888888888888888,\"#fdca26\"],[1.0,\"#f0f921\"]]}],\"contourcarpet\":[{\"type\":\"contourcarpet\",\"colorbar\":{\"outlinewidth\":0,\"ticks\":\"\"}}],\"contour\":[{\"type\":\"contour\",\"colorbar\":{\"outlinewidth\":0,\"ticks\":\"\"},\"colorscale\":[[0.0,\"#0d0887\"],[0.1111111111111111,\"#46039f\"],[0.2222222222222222,\"#7201a8\"],[0.3333333333333333,\"#9c179e\"],[0.4444444444444444,\"#bd3786\"],[0.5555555555555556,\"#d8576b\"],[0.6666666666666666,\"#ed7953\"],[0.7777777777777778,\"#fb9f3a\"],[0.8888888888888888,\"#fdca26\"],[1.0,\"#f0f921\"]]}],\"surface\":[{\"type\":\"surface\",\"colorbar\":{\"outlinewidth\":0,\"ticks\":\"\"},\"colorscale\":[[0.0,\"#0d0887\"],[0.1111111111111111,\"#46039f\"],[0.2222222222222222,\"#7201a8\"],[0.3333333333333333,\"#9c179e\"],[0.4444444444444444,\"#bd3786\"],[0.5555555555555556,\"#d8576b\"],[0.6666666666666666,\"#ed7953\"],[0.7777777777777778,\"#fb9f3a\"],[0.8888888888888888,\"#fdca26\"],[1.0,\"#f0f921\"]]}],\"mesh3d\":[{\"type\":\"mesh3d\",\"colorbar\":{\"outlinewidth\":0,\"ticks\":\"\"}}],\"scatter\":[{\"fillpattern\":{\"fillmode\":\"overlay\",\"size\":10,\"solidity\":0.2},\"type\":\"scatter\"}],\"parcoords\":[{\"type\":\"parcoords\",\"line\":{\"colorbar\":{\"outlinewidth\":0,\"ticks\":\"\"}}}],\"scatterpolargl\":[{\"type\":\"scatterpolargl\",\"marker\":{\"colorbar\":{\"outlinewidth\":0,\"ticks\":\"\"}}}],\"bar\":[{\"error_x\":{\"color\":\"#2a3f5f\"},\"error_y\":{\"color\":\"#2a3f5f\"},\"marker\":{\"line\":{\"color\":\"#E5ECF6\",\"width\":0.5},\"pattern\":{\"fillmode\":\"overlay\",\"size\":10,\"solidity\":0.2}},\"type\":\"bar\"}],\"scattergeo\":[{\"type\":\"scattergeo\",\"marker\":{\"colorbar\":{\"outlinewidth\":0,\"ticks\":\"\"}}}],\"scatterpolar\":[{\"type\":\"scatterpolar\",\"marker\":{\"colorbar\":{\"outlinewidth\":0,\"ticks\":\"\"}}}],\"histogram\":[{\"marker\":{\"pattern\":{\"fillmode\":\"overlay\",\"size\":10,\"solidity\":0.2}},\"type\":\"histogram\"}],\"scattergl\":[{\"type\":\"scattergl\",\"marker\":{\"colorbar\":{\"outlinewidth\":0,\"ticks\":\"\"}}}],\"scatter3d\":[{\"type\":\"scatter3d\",\"line\":{\"colorbar\":{\"outlinewidth\":0,\"ticks\":\"\"}},\"marker\":{\"colorbar\":{\"outlinewidth\":0,\"ticks\":\"\"}}}],\"scattermapbox\":[{\"type\":\"scattermapbox\",\"marker\":{\"colorbar\":{\"outlinewidth\":0,\"ticks\":\"\"}}}],\"scatterternary\":[{\"type\":\"scatterternary\",\"marker\":{\"colorbar\":{\"outlinewidth\":0,\"ticks\":\"\"}}}],\"scattercarpet\":[{\"type\":\"scattercarpet\",\"marker\":{\"colorbar\":{\"outlinewidth\":0,\"ticks\":\"\"}}}],\"carpet\":[{\"aaxis\":{\"endlinecolor\":\"#2a3f5f\",\"gridcolor\":\"white\",\"linecolor\":\"white\",\"minorgridcolor\":\"white\",\"startlinecolor\":\"#2a3f5f\"},\"baxis\":{\"endlinecolor\":\"#2a3f5f\",\"gridcolor\":\"white\",\"linecolor\":\"white\",\"minorgridcolor\":\"white\",\"startlinecolor\":\"#2a3f5f\"},\"type\":\"carpet\"}],\"table\":[{\"cells\":{\"fill\":{\"color\":\"#EBF0F8\"},\"line\":{\"color\":\"white\"}},\"header\":{\"fill\":{\"color\":\"#C8D4E3\"},\"line\":{\"color\":\"white\"}},\"type\":\"table\"}],\"barpolar\":[{\"marker\":{\"line\":{\"color\":\"#E5ECF6\",\"width\":0.5},\"pattern\":{\"fillmode\":\"overlay\",\"size\":10,\"solidity\":0.2}},\"type\":\"barpolar\"}],\"pie\":[{\"automargin\":true,\"type\":\"pie\"}]},\"layout\":{\"autotypenumbers\":\"strict\",\"colorway\":[\"#636efa\",\"#EF553B\",\"#00cc96\",\"#ab63fa\",\"#FFA15A\",\"#19d3f3\",\"#FF6692\",\"#B6E880\",\"#FF97FF\",\"#FECB52\"],\"font\":{\"color\":\"#2a3f5f\"},\"hovermode\":\"closest\",\"hoverlabel\":{\"align\":\"left\"},\"paper_bgcolor\":\"white\",\"plot_bgcolor\":\"#E5ECF6\",\"polar\":{\"bgcolor\":\"#E5ECF6\",\"angularaxis\":{\"gridcolor\":\"white\",\"linecolor\":\"white\",\"ticks\":\"\"},\"radialaxis\":{\"gridcolor\":\"white\",\"linecolor\":\"white\",\"ticks\":\"\"}},\"ternary\":{\"bgcolor\":\"#E5ECF6\",\"aaxis\":{\"gridcolor\":\"white\",\"linecolor\":\"white\",\"ticks\":\"\"},\"baxis\":{\"gridcolor\":\"white\",\"linecolor\":\"white\",\"ticks\":\"\"},\"caxis\":{\"gridcolor\":\"white\",\"linecolor\":\"white\",\"ticks\":\"\"}},\"coloraxis\":{\"colorbar\":{\"outlinewidth\":0,\"ticks\":\"\"}},\"colorscale\":{\"sequential\":[[0.0,\"#0d0887\"],[0.1111111111111111,\"#46039f\"],[0.2222222222222222,\"#7201a8\"],[0.3333333333333333,\"#9c179e\"],[0.4444444444444444,\"#bd3786\"],[0.5555555555555556,\"#d8576b\"],[0.6666666666666666,\"#ed7953\"],[0.7777777777777778,\"#fb9f3a\"],[0.8888888888888888,\"#fdca26\"],[1.0,\"#f0f921\"]],\"sequentialminus\":[[0.0,\"#0d0887\"],[0.1111111111111111,\"#46039f\"],[0.2222222222222222,\"#7201a8\"],[0.3333333333333333,\"#9c179e\"],[0.4444444444444444,\"#bd3786\"],[0.5555555555555556,\"#d8576b\"],[0.6666666666666666,\"#ed7953\"],[0.7777777777777778,\"#fb9f3a\"],[0.8888888888888888,\"#fdca26\"],[1.0,\"#f0f921\"]],\"diverging\":[[0,\"#8e0152\"],[0.1,\"#c51b7d\"],[0.2,\"#de77ae\"],[0.3,\"#f1b6da\"],[0.4,\"#fde0ef\"],[0.5,\"#f7f7f7\"],[0.6,\"#e6f5d0\"],[0.7,\"#b8e186\"],[0.8,\"#7fbc41\"],[0.9,\"#4d9221\"],[1,\"#276419\"]]},\"xaxis\":{\"gridcolor\":\"white\",\"linecolor\":\"white\",\"ticks\":\"\",\"title\":{\"standoff\":15},\"zerolinecolor\":\"white\",\"automargin\":true,\"zerolinewidth\":2},\"yaxis\":{\"gridcolor\":\"white\",\"linecolor\":\"white\",\"ticks\":\"\",\"title\":{\"standoff\":15},\"zerolinecolor\":\"white\",\"automargin\":true,\"zerolinewidth\":2},\"scene\":{\"xaxis\":{\"backgroundcolor\":\"#E5ECF6\",\"gridcolor\":\"white\",\"linecolor\":\"white\",\"showbackground\":true,\"ticks\":\"\",\"zerolinecolor\":\"white\",\"gridwidth\":2},\"yaxis\":{\"backgroundcolor\":\"#E5ECF6\",\"gridcolor\":\"white\",\"linecolor\":\"white\",\"showbackground\":true,\"ticks\":\"\",\"zerolinecolor\":\"white\",\"gridwidth\":2},\"zaxis\":{\"backgroundcolor\":\"#E5ECF6\",\"gridcolor\":\"white\",\"linecolor\":\"white\",\"showbackground\":true,\"ticks\":\"\",\"zerolinecolor\":\"white\",\"gridwidth\":2}},\"shapedefaults\":{\"line\":{\"color\":\"#2a3f5f\"}},\"annotationdefaults\":{\"arrowcolor\":\"#2a3f5f\",\"arrowhead\":0,\"arrowwidth\":1},\"geo\":{\"bgcolor\":\"white\",\"landcolor\":\"#E5ECF6\",\"subunitcolor\":\"white\",\"showland\":true,\"showlakes\":true,\"lakecolor\":\"white\"},\"title\":{\"x\":0.05},\"mapbox\":{\"style\":\"light\"}}},\"xaxis\":{\"anchor\":\"y\",\"domain\":[0.0,1.0],\"title\":{\"text\":\"Date\"}},\"yaxis\":{\"anchor\":\"x\",\"domain\":[0.0,1.0],\"title\":{\"text\":\"Total Screen Time (minutes)\"}},\"legend\":{\"tracegroupgap\":0},\"title\":{\"text\":\"Total Screen Time Per Day Over the Last 10 Days\"},\"barmode\":\"relative\"},                        {\"responsive\": true}                    ).then(function(){\n",
       "                            \n",
       "var gd = document.getElementById('90e80423-c77e-400e-b10f-1f80fab1ffa4');\n",
       "var x = new MutationObserver(function (mutations, observer) {{\n",
       "        var display = window.getComputedStyle(gd).display;\n",
       "        if (!display || display === 'none') {{\n",
       "            console.log([gd, 'removed!']);\n",
       "            Plotly.purge(gd);\n",
       "            observer.disconnect();\n",
       "        }}\n",
       "}});\n",
       "\n",
       "// Listen for the removal of the full notebook cells\n",
       "var notebookContainer = gd.closest('#notebook-container');\n",
       "if (notebookContainer) {{\n",
       "    x.observe(notebookContainer, {childList: true});\n",
       "}}\n",
       "\n",
       "// Listen for the clearing of the current output cell\n",
       "var outputEl = gd.closest('.output');\n",
       "if (outputEl) {{\n",
       "    x.observe(outputEl, {childList: true});\n",
       "}}\n",
       "\n",
       "                        })                };                });            </script>        </div>"
      ]
     },
     "metadata": {},
     "output_type": "display_data"
    }
   ],
   "source": [
    "import plotly.express as px\n",
    "\n",
    "# Calculate total screen time per day over the last 10 days\n",
    "month_ago = datetime.now().date() - timedelta(days=30)\n",
    "recent_df = df[df['Visit Date'] >= month_ago]\n",
    "\n",
    "# Group by date and sum the Time Spent\n",
    "total_time_per_day = recent_df.groupby('Visit Date')['Time Spent'].sum().reset_index()\n",
    "\n",
    "# Convert Time Spent to minutes for easier plotting\n",
    "total_time_per_day['Time Spent (minutes)'] = total_time_per_day['Time Spent'].dt.total_seconds() / 60\n",
    "\n",
    "# Plot using Plotly\n",
    "fig = px.bar(\n",
    "    total_time_per_day,\n",
    "    x='Visit Date',\n",
    "    y='Time Spent (minutes)',\n",
    "    title='Total Screen Time Per Day Over the Last Month',\n",
    "    labels={'Time Spent (minutes)': 'Total Screen Time (minutes)', 'Visit Date': 'Date'}\n",
    ")\n",
    "\n",
    "fig.show()"
   ]
  },
  {
   "cell_type": "code",
   "execution_count": null,
   "id": "760fc8ac-c300-4c60-95a3-66a14c602b2b",
   "metadata": {},
   "outputs": [],
   "source": []
  }
 ],
 "metadata": {
  "kernelspec": {
   "display_name": "Python 3 (ipykernel)",
   "language": "python",
   "name": "python3"
  },
  "language_info": {
   "codemirror_mode": {
    "name": "ipython",
    "version": 3
   },
   "file_extension": ".py",
   "mimetype": "text/x-python",
   "name": "python",
   "nbconvert_exporter": "python",
   "pygments_lexer": "ipython3",
   "version": "3.12.2"
  }
 },
 "nbformat": 4,
 "nbformat_minor": 5
}
